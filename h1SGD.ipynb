{
 "cells": [
  {
   "cell_type": "code",
   "execution_count": 1,
   "id": "initial_id",
   "metadata": {
    "collapsed": true,
    "ExecuteTime": {
     "end_time": "2024-02-04T04:13:14.050649Z",
     "start_time": "2024-02-04T04:13:11.830061Z"
    }
   },
   "outputs": [],
   "source": [
    "import numpy as np\n",
    "import torch\n",
    "from tqdm import tqdm\n",
    "\n",
    "data_path = 'HW1_data.csv'\n",
    "data = np.genfromtxt(data_path, delimiter=',', skip_header=1)\n",
    "Y = data[:,0]\n",
    "X = data[:,1:]\n",
    "\n",
    "Y = torch.tensor(Y, dtype=torch.float)\n",
    "X = torch.tensor(X, dtype=torch.float)"
   ]
  },
  {
   "cell_type": "code",
   "outputs": [],
   "source": [
    "w = torch.randn(6, requires_grad=True, dtype=torch.float)\n",
    "lr = 0.1\n",
    "tolerance = 1e-4 \n",
    "prev_w = None"
   ],
   "metadata": {
    "collapsed": false,
    "ExecuteTime": {
     "end_time": "2024-02-04T04:30:12.937278Z",
     "start_time": "2024-02-04T04:30:12.930774Z"
    }
   },
   "id": "eb4cbded3851fdbe",
   "execution_count": 71
  },
  {
   "cell_type": "code",
   "outputs": [
    {
     "data": {
      "text/plain": "5"
     },
     "execution_count": 72,
     "metadata": {},
     "output_type": "execute_result"
    }
   ],
   "source": [
    "X.shape[1]"
   ],
   "metadata": {
    "collapsed": false,
    "ExecuteTime": {
     "end_time": "2024-02-04T04:30:13.411752Z",
     "start_time": "2024-02-04T04:30:13.399964Z"
    }
   },
   "id": "934dc1e5a25cf59b",
   "execution_count": 72
  },
  {
   "cell_type": "code",
   "outputs": [
    {
     "name": "stderr",
     "output_type": "stream",
     "text": [
      " 14%|█▍        | 413/3000 [00:00<00:01, 2324.18it/s]\n"
     ]
    }
   ],
   "source": [
    "epochs = 3000\n",
    "for epoch in tqdm(range(epochs)):\n",
    "    lambda_i = torch.exp(X @ w[1:] + w[0])\n",
    "    \n",
    "    neg_log_likelihood = -torch.sum(Y * (X @ w[1:] + w[0]) - lambda_i)\n",
    "    \n",
    "    neg_log_likelihood.backward()\n",
    "    \n",
    "    with torch.no_grad():\n",
    "        # Update parameters and check for convergence\n",
    "        if prev_w is not None and torch.max(torch.abs(w - prev_w)) < tolerance:\n",
    "            break\n",
    "        prev_w = w.clone()\n",
    "        w -= (lr * w.grad)/X.shape[0]\n",
    "        # print(prev_w)\n",
    "    \n",
    "    w.grad.zero_()"
   ],
   "metadata": {
    "collapsed": false,
    "ExecuteTime": {
     "end_time": "2024-02-04T04:30:14.032907Z",
     "start_time": "2024-02-04T04:30:13.847460Z"
    }
   },
   "id": "7c94e5518a39f5b5",
   "execution_count": 73
  },
  {
   "cell_type": "code",
   "outputs": [
    {
     "data": {
      "text/plain": "tensor([ 0.1038,  2.4724, -1.0500,  0.7876, -0.4968,  0.3195],\n       requires_grad=True)"
     },
     "execution_count": 74,
     "metadata": {},
     "output_type": "execute_result"
    }
   ],
   "source": [
    "w"
   ],
   "metadata": {
    "collapsed": false,
    "ExecuteTime": {
     "end_time": "2024-02-04T04:30:15.156430Z",
     "start_time": "2024-02-04T04:30:15.144228Z"
    }
   },
   "id": "d642e7325b28eed3",
   "execution_count": 74
  },
  {
   "cell_type": "code",
   "outputs": [],
   "source": [],
   "metadata": {
    "collapsed": false
   },
   "id": "428a7c2ccf251a4"
  }
 ],
 "metadata": {
  "kernelspec": {
   "display_name": "Python 3",
   "language": "python",
   "name": "python3"
  },
  "language_info": {
   "codemirror_mode": {
    "name": "ipython",
    "version": 2
   },
   "file_extension": ".py",
   "mimetype": "text/x-python",
   "name": "python",
   "nbconvert_exporter": "python",
   "pygments_lexer": "ipython2",
   "version": "2.7.6"
  }
 },
 "nbformat": 4,
 "nbformat_minor": 5
}
