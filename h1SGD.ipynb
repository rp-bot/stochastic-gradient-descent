{
 "cells": [
  {
   "cell_type": "code",
   "execution_count": 15,
   "id": "initial_id",
   "metadata": {
    "collapsed": true,
    "ExecuteTime": {
     "end_time": "2024-01-31T04:50:40.730334400Z",
     "start_time": "2024-01-31T04:50:40.719134300Z"
    }
   },
   "outputs": [],
   "source": [
    "import numpy as np\n",
    "import torch\n",
    "import torch.nn as nn\n",
    "import sklearn\n",
    "from sklearn.preprocessing import StandardScaler\n",
    "from sklearn.model_selection import train_test_split\n",
    "\n",
    "data_path = 'HW1_data.csv'\n",
    "data = np.genfromtxt(data_path, delimiter=',', skip_header=1)\n",
    "Y = data[:,0]\n",
    "X = data[:,1:]\n",
    "\n",
    "Y = torch.tensor(Y, dtype=torch.float)\n",
    "X = torch.tensor(X, dtype=torch.float)"
   ]
  },
  {
   "cell_type": "code",
   "outputs": [],
   "source": [
    "w = torch.randn(6, requires_grad=True, dtype=torch.float)\n",
    "lr = 0.005"
   ],
   "metadata": {
    "collapsed": false,
    "ExecuteTime": {
     "end_time": "2024-01-31T04:53:25.839420600Z",
     "start_time": "2024-01-31T04:53:25.834287800Z"
    }
   },
   "id": "eb4cbded3851fdbe",
   "execution_count": 54
  },
  {
   "cell_type": "code",
   "outputs": [
    {
     "data": {
      "text/plain": "torch.Size([1000])"
     },
     "execution_count": 13,
     "metadata": {},
     "output_type": "execute_result"
    }
   ],
   "source": [
    "Y.shape"
   ],
   "metadata": {
    "collapsed": false,
    "ExecuteTime": {
     "end_time": "2024-01-31T04:50:13.407201300Z",
     "start_time": "2024-01-31T04:50:13.399065300Z"
    }
   },
   "id": "934dc1e5a25cf59b",
   "execution_count": 13
  },
  {
   "cell_type": "code",
   "outputs": [],
   "source": [
    "epochs = 10\n",
    "for epoch in range(epochs):\n",
    "    lambda_i = torch.exp(X @ w[1:] + w[0])\n",
    "    \n",
    "    neg_log_likelihood = -torch.sum(Y * (X @ w[1:] + w[0]) - lambda_i)\n",
    "    \n",
    "    neg_log_likelihood.backward()\n",
    "    \n",
    "    with torch.no_grad():\n",
    "        w-=lr*w.grad\n",
    "        \n",
    "    w.grad.zero_()"
   ],
   "metadata": {
    "collapsed": false,
    "ExecuteTime": {
     "end_time": "2024-01-31T04:54:06.250381100Z",
     "start_time": "2024-01-31T04:54:06.242373500Z"
    }
   },
   "id": "7c94e5518a39f5b5",
   "execution_count": 57
  },
  {
   "cell_type": "code",
   "outputs": [
    {
     "data": {
      "text/plain": "tensor([-1.1363e+25, -9.0056e+24, -8.4835e+24, -8.8985e+24, -8.9752e+24,\n        -1.0365e+25], requires_grad=True)"
     },
     "execution_count": 58,
     "metadata": {},
     "output_type": "execute_result"
    }
   ],
   "source": [
    "w"
   ],
   "metadata": {
    "collapsed": false,
    "ExecuteTime": {
     "end_time": "2024-01-31T04:54:07.720543500Z",
     "start_time": "2024-01-31T04:54:07.712685200Z"
    }
   },
   "id": "d642e7325b28eed3",
   "execution_count": 58
  },
  {
   "cell_type": "code",
   "outputs": [],
   "source": [],
   "metadata": {
    "collapsed": false
   },
   "id": "428a7c2ccf251a4"
  }
 ],
 "metadata": {
  "kernelspec": {
   "display_name": "Python 3",
   "language": "python",
   "name": "python3"
  },
  "language_info": {
   "codemirror_mode": {
    "name": "ipython",
    "version": 2
   },
   "file_extension": ".py",
   "mimetype": "text/x-python",
   "name": "python",
   "nbconvert_exporter": "python",
   "pygments_lexer": "ipython2",
   "version": "2.7.6"
  }
 },
 "nbformat": 4,
 "nbformat_minor": 5
}
