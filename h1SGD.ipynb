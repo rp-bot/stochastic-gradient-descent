{
 "cells": [
  {
   "cell_type": "code",
   "execution_count": 96,
   "id": "initial_id",
   "metadata": {
    "collapsed": true,
    "ExecuteTime": {
     "end_time": "2024-02-07T02:04:14.397118900Z",
     "start_time": "2024-02-07T02:04:14.388083800Z"
    }
   },
   "outputs": [],
   "source": [
    "import numpy as np\n",
    "import torch\n",
    "from tqdm import tqdm\n",
    "\n",
    "data_path = 'HW1_data.csv'\n",
    "data = np.genfromtxt(data_path, delimiter=',', skip_header=1)\n",
    "Y = data[:,0]\n",
    "X = data[:,1:]\n",
    "\n",
    "Y = torch.tensor(Y, dtype=torch.float)\n",
    "X = torch.tensor(X, dtype=torch.float)"
   ]
  },
  {
   "cell_type": "code",
   "outputs": [],
   "source": [
    "w = torch.randn(6, requires_grad=True, dtype=torch.float)\n",
    "lr = 0.1\n",
    "tolerance = 1e-4 \n",
    "prev_w = None"
   ],
   "metadata": {
    "collapsed": false,
    "ExecuteTime": {
     "end_time": "2024-02-07T02:04:14.813574500Z",
     "start_time": "2024-02-07T02:04:14.810488100Z"
    }
   },
   "id": "eb4cbded3851fdbe",
   "execution_count": 97
  },
  {
   "cell_type": "code",
   "outputs": [
    {
     "data": {
      "text/plain": "5"
     },
     "execution_count": 98,
     "metadata": {},
     "output_type": "execute_result"
    }
   ],
   "source": [
    "X.shape[1]"
   ],
   "metadata": {
    "collapsed": false,
    "ExecuteTime": {
     "end_time": "2024-02-07T02:04:15.390162400Z",
     "start_time": "2024-02-07T02:04:15.386914700Z"
    }
   },
   "id": "934dc1e5a25cf59b",
   "execution_count": 98
  },
  {
   "cell_type": "code",
   "outputs": [
    {
     "name": "stderr",
     "output_type": "stream",
     "text": [
      " 36%|███▌      | 361/1000 [00:00<00:00, 3609.84it/s]"
     ]
    },
    {
     "name": "stdout",
     "output_type": "stream",
     "text": [
      "0 -592.4174194335938\n"
     ]
    },
    {
     "name": "stderr",
     "output_type": "stream",
     "text": [
      "100%|██████████| 1000/1000 [00:00<00:00, 3636.35it/s]\n"
     ]
    }
   ],
   "source": [
    "epochs = 1000\n",
    "for epoch in tqdm(range(epochs)):\n",
    "    \n",
    "    lambda_i = torch.exp(X @ w[1:] + w[0])\n",
    "    \n",
    "    neg_log_likelihood = -torch.sum(Y * (X @ w[1:] + w[0]) - lambda_i)\n",
    "    \n",
    "    \n",
    "    neg_log_likelihood.backward()\n",
    "    \n",
    "    with torch.no_grad():\n",
    "        prev_w = w.clone()\n",
    "        w -= (lr * w.grad)/X.shape[0]\n",
    "\n",
    "\n",
    "    if epoch %1000 == 0:\n",
    "        print(epoch, neg_log_likelihood.item())\n",
    "    w.grad.zero_()"
   ],
   "metadata": {
    "collapsed": false,
    "ExecuteTime": {
     "end_time": "2024-02-07T02:04:16.219032100Z",
     "start_time": "2024-02-07T02:04:15.938761500Z"
    }
   },
   "id": "7c94e5518a39f5b5",
   "execution_count": 99
  },
  {
   "cell_type": "code",
   "outputs": [
    {
     "data": {
      "text/plain": "tensor([ 0.0954,  2.4774, -1.0473,  0.7901, -0.4947,  0.3217],\n       requires_grad=True)"
     },
     "execution_count": 100,
     "metadata": {},
     "output_type": "execute_result"
    }
   ],
   "source": [
    "w"
   ],
   "metadata": {
    "collapsed": false,
    "ExecuteTime": {
     "end_time": "2024-02-07T02:04:18.166888400Z",
     "start_time": "2024-02-07T02:04:18.162546200Z"
    }
   },
   "id": "d642e7325b28eed3",
   "execution_count": 100
  }
 ],
 "metadata": {
  "kernelspec": {
   "display_name": "Python 3",
   "language": "python",
   "name": "python3"
  },
  "language_info": {
   "codemirror_mode": {
    "name": "ipython",
    "version": 2
   },
   "file_extension": ".py",
   "mimetype": "text/x-python",
   "name": "python",
   "nbconvert_exporter": "python",
   "pygments_lexer": "ipython2",
   "version": "2.7.6"
  }
 },
 "nbformat": 4,
 "nbformat_minor": 5
}
