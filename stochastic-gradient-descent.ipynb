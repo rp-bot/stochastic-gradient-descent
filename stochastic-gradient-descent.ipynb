{
 "cells": [
  {
   "cell_type": "code",
   "outputs": [],
   "source": [
    "import numpy as np\n",
    "import torch\n",
    "import torch.nn as nn\n",
    "import sklearn\n",
    "from sklearn.preprocessing import StandardScaler\n",
    "from sklearn.model_selection import train_test_split\n",
    "\n",
    "data_path = 'HW1_data.csv'\n",
    "data = np.genfromtxt(data_path, delimiter=',', skip_header=1)\n",
    "Y = data[:,0]\n",
    "X = data[:,1:]\n",
    "\n",
    "Y = torch.tensor(Y)\n",
    "X = torch.tensor(X)"
   ],
   "metadata": {
    "collapsed": false,
    "ExecuteTime": {
     "end_time": "2024-01-27T21:11:51.416785500Z",
     "start_time": "2024-01-27T21:11:51.406623800Z"
    }
   },
   "id": "728efda89dcfd13",
   "execution_count": 55
  },
  {
   "cell_type": "code",
   "outputs": [],
   "source": [
    "n_samples, n_features = X.shape"
   ],
   "metadata": {
    "collapsed": false,
    "ExecuteTime": {
     "end_time": "2024-01-27T21:11:53.025800400Z",
     "start_time": "2024-01-27T21:11:53.021786300Z"
    }
   },
   "id": "a602c0b87af1ae24",
   "execution_count": 56
  },
  {
   "cell_type": "code",
   "outputs": [],
   "source": [
    "X_Train, X_Test, Y_Train, Y_Test = train_test_split(X, Y, test_size=0.2, random_state=1234)\n",
    "scaler = StandardScaler()\n",
    "X_Train = scaler.fit_transform(X_Train)\n",
    "X_Test = scaler.transform(X_Test)\n",
    "\n",
    "\n",
    "X_Train = torch.from_numpy(X_Train).float()\n",
    "X_Test = torch.from_numpy(X_Test).float()\n"
   ],
   "metadata": {
    "collapsed": false,
    "ExecuteTime": {
     "end_time": "2024-01-27T21:11:57.365531100Z",
     "start_time": "2024-01-27T21:11:57.359453700Z"
    }
   },
   "id": "529843c52184b5ba",
   "execution_count": 58
  },
  {
   "cell_type": "code",
   "outputs": [],
   "source": [
    "Y_Train = Y_Train.view(Y_Train.shape[0],1)\n",
    "Y_Test = Y_Test.view(Y_Test.shape[0],1)"
   ],
   "metadata": {
    "collapsed": false,
    "ExecuteTime": {
     "end_time": "2024-01-27T21:11:57.980459500Z",
     "start_time": "2024-01-27T21:11:57.976276200Z"
    }
   },
   "id": "b34de639ae2febea",
   "execution_count": 59
  },
  {
   "cell_type": "code",
   "outputs": [],
   "source": [
    "class PoissonRegression(nn.Module):\n",
    "    def __init__(self, input_dim):\n",
    "        super(PoissonRegression, self).__init__()\n",
    "        # Linear layer (input_dim -> 1)\n",
    "        self.linear = nn.Linear(input_dim, 1)\n",
    "    \n",
    "    def forward(self, x):\n",
    "        # Exponential function to ensure the output is positive\n",
    "        return torch.exp(self.linear(x))\n",
    "    \n"
   ],
   "metadata": {
    "collapsed": false,
    "ExecuteTime": {
     "end_time": "2024-01-27T21:11:58.732567100Z",
     "start_time": "2024-01-27T21:11:58.727643900Z"
    }
   },
   "id": "d5f13894b3c48419",
   "execution_count": 60
  },
  {
   "cell_type": "code",
   "outputs": [],
   "source": [
    "model = PoissonRegression(n_features)"
   ],
   "metadata": {
    "collapsed": false,
    "ExecuteTime": {
     "end_time": "2024-01-27T21:15:18.079735800Z",
     "start_time": "2024-01-27T21:15:18.074300200Z"
    }
   },
   "id": "34a3143a6453fd31",
   "execution_count": 66
  },
  {
   "cell_type": "code",
   "outputs": [],
   "source": [
    "def poisson_loss(y_predicted, y_true):\n",
    "    return -torch.mean(y_true * torch.log(y_predicted) - y_predicted)"
   ],
   "metadata": {
    "collapsed": false,
    "ExecuteTime": {
     "end_time": "2024-01-27T21:15:19.510673500Z",
     "start_time": "2024-01-27T21:15:19.506433700Z"
    }
   },
   "id": "60e511a0e710ff30",
   "execution_count": 67
  },
  {
   "cell_type": "code",
   "outputs": [],
   "source": [
    "optimizer = torch.optim.SGD(model.parameters(),lr=0.01)"
   ],
   "metadata": {
    "collapsed": false,
    "ExecuteTime": {
     "end_time": "2024-01-27T21:15:24.056569700Z",
     "start_time": "2024-01-27T21:15:24.052469900Z"
    }
   },
   "id": "aae2dbde170ee37e",
   "execution_count": 69
  },
  {
   "cell_type": "code",
   "outputs": [
    {
     "name": "stdout",
     "output_type": "stream",
     "text": [
      "0 -0.6672607307449653\n"
     ]
    }
   ],
   "source": [
    "num_epochs = 10\n",
    "\n",
    "for epoch in range(num_epochs):\n",
    "    # forward pass and loss\n",
    "    y_pred = model(X_Train)\n",
    "    loss=poisson_loss(y_pred, Y_Train)\n",
    "    # backward \n",
    "    loss.backward()\n",
    "    \n",
    "    optimizer.step()\n",
    "    \n",
    "    optimizer.zero_grad()\n",
    "    if epoch % 100 == 0:\n",
    "        print(epoch, loss.item())"
   ],
   "metadata": {
    "collapsed": false,
    "ExecuteTime": {
     "end_time": "2024-01-27T21:15:41.259599600Z",
     "start_time": "2024-01-27T21:15:41.252336300Z"
    }
   },
   "id": "f5c97a1279f914ad",
   "execution_count": 74
  },
  {
   "cell_type": "code",
   "outputs": [
    {
     "name": "stdout",
     "output_type": "stream",
     "text": [
      "Accuracy 0.14499999582767487\n"
     ]
    }
   ],
   "source": [
    "with torch.no_grad():\n",
    "    y_pred = model(X_Test)\n",
    "    y_pred_cls = y_pred.round()\n",
    "    \n",
    "    acc = y_pred_cls.eq(Y_Test).sum()/float(Y_Test.shape[0])\n",
    "    print(f\"Accuracy {acc}\")"
   ],
   "metadata": {
    "collapsed": false,
    "ExecuteTime": {
     "end_time": "2024-01-27T21:15:37.272291600Z",
     "start_time": "2024-01-27T21:15:37.268279200Z"
    }
   },
   "id": "f5eb1f044e1a155f",
   "execution_count": 73
  },
  {
   "cell_type": "code",
   "outputs": [],
   "source": [],
   "metadata": {
    "collapsed": false
   },
   "id": "b247cd374d9bd972"
  }
 ],
 "metadata": {
  "kernelspec": {
   "display_name": "Python 3",
   "language": "python",
   "name": "python3"
  },
  "language_info": {
   "codemirror_mode": {
    "name": "ipython",
    "version": 2
   },
   "file_extension": ".py",
   "mimetype": "text/x-python",
   "name": "python",
   "nbconvert_exporter": "python",
   "pygments_lexer": "ipython2",
   "version": "2.7.6"
  }
 },
 "nbformat": 4,
 "nbformat_minor": 5
}
